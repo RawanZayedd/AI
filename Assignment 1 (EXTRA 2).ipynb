{
 "cells": [
  {
   "cell_type": "code",
   "execution_count": 1,
   "metadata": {},
   "outputs": [
    {
     "name": "stdout",
     "output_type": "stream",
     "text": [
      "hello\n"
     ]
    }
   ],
   "source": [
    "d = {'simple_key':'hello'}\n",
    "print(d['simple_key'])"
   ]
  },
  {
   "cell_type": "code",
   "execution_count": 4,
   "metadata": {},
   "outputs": [
    {
     "name": "stdout",
     "output_type": "stream",
     "text": [
      "hello\n"
     ]
    }
   ],
   "source": [
    "d = {\n",
    "    'k1':{'k2':'hello'}\n",
    "    }\n",
    "print(d['k1']['k2'])"
   ]
  },
  {
   "cell_type": "code",
   "execution_count": 56,
   "metadata": {},
   "outputs": [
    {
     "name": "stdout",
     "output_type": "stream",
     "text": [
      "hello\n"
     ]
    }
   ],
   "source": [
    "d = {'k1':[{'nest_key':['this is deep',['hello']]}]}  \n",
    "list1=d['k1']\n",
    "for dic1 in list1:\n",
    "   dic1\n",
    "list2=dic1['nest_key']   \n",
    "for dic2 in list2:\n",
    "   dic2 \n",
    "list3=dic2[0]    \n",
    "print(list3)  "
   ]
  },
  {
   "cell_type": "code",
   "execution_count": 45,
   "metadata": {},
   "outputs": [
    {
     "name": "stdout",
     "output_type": "stream",
     "text": [
      "hello\n"
     ]
    }
   ],
   "source": [
    "d = {'k1':[1,2,{'k2':['this is tricky',{'tough':[1,2,['hello']]}]}]}\n",
    "def get_hello():\n",
    "    list1=d['k1']\n",
    "    for dic1 in list1:\n",
    "       dic1\n",
    "    list2=dic1['k2']   \n",
    "    for dic2 in list2: \n",
    "       dic2\n",
    "    list3=dic2['tough']\n",
    "    for dic3 in list3:\n",
    "       dic3\n",
    "    list4=dic3[0]        \n",
    "    print(list4)\n",
    "\n",
    "get_hello()\n"
   ]
  },
  {
   "cell_type": "code",
   "execution_count": 57,
   "metadata": {},
   "outputs": [
    {
     "name": "stdout",
     "output_type": "stream",
     "text": [
      " The diameter of Earth is 12742 kilometers\n"
     ]
    }
   ],
   "source": [
    "text=\" The diameter of {planet} is {diameter} kilometers\"\n",
    "print(text.format(planet = \"Earth\",diameter = 12742))"
   ]
  },
  {
   "cell_type": "code",
   "execution_count": 65,
   "metadata": {},
   "outputs": [
    {
     "data": {
      "text/plain": [
       "'hello'"
      ]
     },
     "execution_count": 65,
     "metadata": {},
     "output_type": "execute_result"
    }
   ],
   "source": [
    "lst = [1,2,[3,4],[5,[100,200,['hello']],23,11],1,7]\n",
    "lst1=lst[3][1][2][0]\n",
    "lst1"
   ]
  },
  {
   "cell_type": "code",
   "execution_count": 85,
   "metadata": {},
   "outputs": [
    {
     "data": {
      "text/plain": [
       "'hello'"
      ]
     },
     "execution_count": 85,
     "metadata": {},
     "output_type": "execute_result"
    }
   ],
   "source": [
    "d = {'k1':[1,2,3,{'tricky':['oh','man','inception',{'target':[1,2,3,'hello']}]}]}\n",
    "list1=d['k1'][3]['tricky'][3]['target'][3]\n",
    "list1   \n",
    "    \n",
    "\n"
   ]
  },
  {
   "cell_type": "code",
   "execution_count": 154,
   "metadata": {},
   "outputs": [
    {
     "name": "stdout",
     "output_type": "stream",
     "text": [
      "[2, 1, 4, 3]\n"
     ]
    }
   ],
   "source": [
    "x=[1,2,3,4]\n",
    "y=[]\n",
    "i=0\n",
    "while i<len(x)-1:\n",
    "    y.append(x[i+1])\n",
    "    y.append(x[i])\n",
    "    i+=2\n",
    "print(y)   \n",
    "\n",
    "    \n",
    "    \n",
    "     "
   ]
  }
 ],
 "metadata": {
  "kernelspec": {
   "display_name": "Python 3",
   "language": "python",
   "name": "python3"
  },
  "language_info": {
   "codemirror_mode": {
    "name": "ipython",
    "version": 3
   },
   "file_extension": ".py",
   "mimetype": "text/x-python",
   "name": "python",
   "nbconvert_exporter": "python",
   "pygments_lexer": "ipython3",
   "version": "3.11.4"
  },
  "orig_nbformat": 4
 },
 "nbformat": 4,
 "nbformat_minor": 2
}
