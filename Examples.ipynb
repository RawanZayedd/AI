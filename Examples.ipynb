{
 "cells": [
  {
   "cell_type": "code",
   "execution_count": 11,
   "metadata": {},
   "outputs": [
    {
     "name": "stdout",
     "output_type": "stream",
     "text": [
      "(1, 2, 3, 'rawan')\n"
     ]
    }
   ],
   "source": [
    "#1. Write a Python program to add an item to a tuple\n",
    "add_tuple= (1,2)\n",
    "add_tuple= add_tuple + (3,)\n",
    "add_tuple= (*add_tuple, 'rawan')\n",
    "print(add_tuple)"
   ]
  },
  {
   "cell_type": "code",
   "execution_count": 13,
   "metadata": {},
   "outputs": [
    {
     "name": "stdout",
     "output_type": "stream",
     "text": [
      "21\n"
     ]
    }
   ],
   "source": [
    "#2. Write a Python program to sum all the items in a list\n",
    "nums= [1,2,3,4,5,6]\n",
    "x=0\n",
    "for num in nums:\n",
    "    x=x+num\n",
    "print(x)    "
   ]
  },
  {
   "cell_type": "code",
   "execution_count": 15,
   "metadata": {},
   "outputs": [
    {
     "name": "stdout",
     "output_type": "stream",
     "text": [
      "720\n"
     ]
    }
   ],
   "source": [
    "#3. Write a Python program to multiply all the items in a list.\n",
    "nums= [1,2,3,4,5,6]\n",
    "x=1\n",
    "for num in nums:\n",
    "    x=x*num\n",
    "print(x) \n"
   ]
  },
  {
   "cell_type": "code",
   "execution_count": 29,
   "metadata": {},
   "outputs": [
    {
     "name": "stdout",
     "output_type": "stream",
     "text": [
      "0\n"
     ]
    }
   ],
   "source": [
    "#4. Write a Python program to get the smallest number from a list.\n",
    "nums = [9,2,3,4,5,6,0]\n",
    "x=nums[0]\n",
    "for i in range(len(nums)):\n",
    "    if nums[i]<x:\n",
    "        x=nums[i]\n",
    "print(x)\n",
    "\n",
    "\n"
   ]
  },
  {
   "cell_type": "code",
   "execution_count": 32,
   "metadata": {},
   "outputs": [
    {
     "name": "stdout",
     "output_type": "stream",
     "text": [
      "56\n"
     ]
    }
   ],
   "source": [
    "#5. Write a Python program to get the largest number from a list.\n",
    "nums = [9,2,3,4,56,6,20]\n",
    "x=nums[0]\n",
    "for i in range(len(nums)):\n",
    "    if nums[i]>x:\n",
    "        x=nums[i]\n",
    "print(x)"
   ]
  },
  {
   "cell_type": "code",
   "execution_count": 37,
   "metadata": {},
   "outputs": [
    {
     "name": "stdout",
     "output_type": "stream",
     "text": [
      "4\n"
     ]
    }
   ],
   "source": [
    "#6. Write a Python program to count the number of strings from a given list of strings.\n",
    "sentence= ['cherry', 'apple','pinapple','avocado']\n",
    "print(len(sentence))"
   ]
  },
  {
   "cell_type": "code",
   "execution_count": 38,
   "metadata": {},
   "outputs": [
    {
     "name": "stdout",
     "output_type": "stream",
     "text": [
      "['rawan', 'rozan', 'sama']\n"
     ]
    }
   ],
   "source": [
    "#7. Write a Python program to clone or copy a list\n",
    "list1=['rawan','rozan','sama']\n",
    "list2=list1.copy()\n",
    "print(list2)"
   ]
  },
  {
   "cell_type": "code",
   "execution_count": 40,
   "metadata": {},
   "outputs": [
    {
     "data": {
      "text/plain": [
       "['rawan', 'rozan', 'sama']"
      ]
     },
     "execution_count": 40,
     "metadata": {},
     "output_type": "execute_result"
    }
   ],
   "source": [
    "#7. Write a Python program to clone or copy a list\n",
    "list1=['rawan','rozan','sama']\n",
    "list2=list(list1)\n",
    "list2"
   ]
  },
  {
   "cell_type": "code",
   "execution_count": 5,
   "metadata": {},
   "outputs": [
    {
     "name": "stdout",
     "output_type": "stream",
     "text": [
      "hello\n",
      "animal\n"
     ]
    }
   ],
   "source": [
    "#8. Write a Python program to remove item(s) from a given set.\n",
    "set1={'hello','fruits','animal'}\n",
    "item=input('enter item need to remove')\n",
    "for i in set1:\n",
    "    if i==item:\n",
    "        continue\n",
    "    print(i)\n",
    "\n",
    "    "
   ]
  },
  {
   "cell_type": "code",
   "execution_count": 9,
   "metadata": {},
   "outputs": [
    {
     "name": "stdout",
     "output_type": "stream",
     "text": [
      "{'hello', 'animal'}\n"
     ]
    }
   ],
   "source": [
    "#8.Write a Python program to remove item(s) from a given set\n",
    "set1={'hello','fruits','animal'}\n",
    "set1.remove('fruits')\n",
    "print(set1)"
   ]
  },
  {
   "cell_type": "code",
   "execution_count": 12,
   "metadata": {},
   "outputs": [
    {
     "name": "stdout",
     "output_type": "stream",
     "text": [
      "yes\n"
     ]
    }
   ],
   "source": [
    "#9.Write a Python program to check if a set is a subset of another set.\n",
    "names={'rawan','sama','rozan','maya'}\n",
    "subnames={'rozan','rawan'}\n",
    "if subnames.issubset(names):\n",
    "    print('yes')\n",
    "else:\n",
    "    print('no')    "
   ]
  },
  {
   "cell_type": "code",
   "execution_count": 16,
   "metadata": {},
   "outputs": [
    {
     "data": {
      "text/plain": [
       "set()"
      ]
     },
     "execution_count": 16,
     "metadata": {},
     "output_type": "execute_result"
    }
   ],
   "source": [
    "#10. Write a Python program to remove all elements from a given set.\n",
    "names={'rawan','sama','rozan','maya'}\n",
    "names.clear()\n",
    "names\n"
   ]
  },
  {
   "cell_type": "code",
   "execution_count": 23,
   "metadata": {},
   "outputs": [
    {
     "name": "stdout",
     "output_type": "stream",
     "text": [
      "1\n",
      "23\n"
     ]
    }
   ],
   "source": [
    "#11. Write a Python program to find the maximum and minimum values in a set.\n",
    "nums={1,2,3,4,5,6,14,23,12}\n",
    "x=nums.pop()\n",
    "for num in nums:\n",
    "    if x>num:\n",
    "        x=num\n",
    "print(x)\n",
    "for num in nums:\n",
    "    if x<num:\n",
    "        y=num\n",
    "print(y)"
   ]
  },
  {
   "cell_type": "code",
   "execution_count": 29,
   "metadata": {},
   "outputs": [
    {
     "name": "stdout",
     "output_type": "stream",
     "text": [
      "4\n"
     ]
    }
   ],
   "source": [
    "#12. Write a Python program to find the index of an item in a tuple.\n",
    "nums=(1,2,4,5,6)\n",
    "i=6\n",
    "for num in nums:\n",
    "    if num==i:\n",
    "       print(nums.index(num))\n"
   ]
  },
  {
   "cell_type": "code",
   "execution_count": 71,
   "metadata": {},
   "outputs": [
    {
     "ename": "ValueError",
     "evalue": "dictionary update sequence element #0 has length 5; 2 is required",
     "output_type": "error",
     "traceback": [
      "\u001b[1;31m---------------------------------------------------------------------------\u001b[0m",
      "\u001b[1;31mValueError\u001b[0m                                Traceback (most recent call last)",
      "Cell \u001b[1;32mIn[71], line 3\u001b[0m\n\u001b[0;32m      1\u001b[0m \u001b[39m#13. Write a Python program to convert a tuple to a dictionary.\u001b[39;00m\n\u001b[0;32m      2\u001b[0m data\u001b[39m=\u001b[39m(\u001b[39m'\u001b[39m\u001b[39mrawan\u001b[39m\u001b[39m'\u001b[39m,\u001b[39m'\u001b[39m\u001b[39mrozan\u001b[39m\u001b[39m'\u001b[39m,\u001b[39m'\u001b[39m\u001b[39msama\u001b[39m\u001b[39m'\u001b[39m)\n\u001b[1;32m----> 3\u001b[0m new\u001b[39m=\u001b[39m\u001b[39mdict\u001b[39;49m(data)\n\u001b[0;32m      4\u001b[0m new\n",
      "\u001b[1;31mValueError\u001b[0m: dictionary update sequence element #0 has length 5; 2 is required"
     ]
    }
   ],
   "source": [
    "#13. Write a Python program to convert a tuple to a dictionary.\n",
    "data=((19,'rawan'),(20,'sama'))\n",
    "print(dict(data))\n",
    "nums=((1,1000),(2,30000))\n",
    "print(dict(nums))\n",
    "data_num=((19,'rawan'),(20,'sama'))\n",
    "dic={name:age for (age,name) in data_num}\n",
    "print(dic)"
   ]
  },
  {
   "cell_type": "code",
   "execution_count": 58,
   "metadata": {},
   "outputs": [
    {
     "name": "stdout",
     "output_type": "stream",
     "text": [
      "[1, 4, 7]\n",
      "[2, 5, 8]\n",
      "[3, 6, 9]\n"
     ]
    }
   ],
   "source": [
    "#14. Write a Python program to unzip a list of tuples into individual lists\n",
    "x=[(1,2,3),(4,5,6),(7,8,9)]\n",
    "f=[i for (i,j,k) in x ]\n",
    "l=[j for (i,j,k) in x ]\n",
    "m=[k for (i,j,k) in x ]\n",
    "print(list(f))\n",
    "print(list(l))\n",
    "print(list(m))\n"
   ]
  },
  {
   "cell_type": "code",
   "execution_count": 60,
   "metadata": {},
   "outputs": [
    {
     "data": {
      "text/plain": [
       "[(1, 2, 3), (4, 5, 6), (7, 8, 9)]"
      ]
     },
     "execution_count": 60,
     "metadata": {},
     "output_type": "execute_result"
    }
   ],
   "source": [
    "x=[1, 4, 7]\n",
    "y=[2, 5, 8]\n",
    "z=[3, 6, 9]\n",
    "l=list(zip(x,y,z))\n",
    "l"
   ]
  },
  {
   "cell_type": "code",
   "execution_count": 69,
   "metadata": {},
   "outputs": [
    {
     "data": {
      "text/plain": [
       "('rozan', 'sama', 'rawan')"
      ]
     },
     "execution_count": 69,
     "metadata": {},
     "output_type": "execute_result"
    }
   ],
   "source": [
    "#15. Write a Python program to reverse a tuple.\n",
    "name=('rawan','sama','rozan')\n",
    "name_reverse=reversed(name)\n",
    "reverse=tuple(name_reverse)\n",
    "reverse\n"
   ]
  },
  {
   "cell_type": "code",
   "execution_count": 73,
   "metadata": {},
   "outputs": [
    {
     "name": "stdout",
     "output_type": "stream",
     "text": [
      "{'rawan': 19, 'sama': 20}\n",
      "{19: 'rawan', 20: 'sama'}\n"
     ]
    }
   ],
   "source": [
    "#16. Write a Python program to convert a list of tuples into a dictionary.\n",
    "data=[(19,'rawan'),(20,'sama')]\n",
    "tuple(data)\n",
    "dic={name:age for (age,name) in data_num}\n",
    "print(dic)\n",
    "dic=dict(data)\n",
    "print(dic)"
   ]
  },
  {
   "cell_type": "code",
   "execution_count": 131,
   "metadata": {},
   "outputs": [
    {
     "data": {
      "text/plain": [
       "[(10, 20, 100), (40, 50, 100), (70, 80, 100)]"
      ]
     },
     "execution_count": 131,
     "metadata": {},
     "output_type": "execute_result"
    }
   ],
   "source": [
    "#17. Write a Python program to replace the last value of tuples in a list.\n",
    "Sample_list=[(10, 20, 40), (40, 50, 60), (70, 80, 90)]\n",
    "Sample_list=[tup[:-1]+(100,) for tup in Sample_list]\n",
    "Sample_list\n"
   ]
  },
  {
   "cell_type": "code",
   "execution_count": 201,
   "metadata": {},
   "outputs": [
    {
     "name": "stdout",
     "output_type": "stream",
     "text": [
      "(6.9, 17.5, 43.9)\n"
     ]
    }
   ],
   "source": [
    "#18. Write a Python program to sort a tuple by its float element\n",
    "Data=(43.9,17.5,6.9)\n",
    "Data=list(Data)\n",
    "for i in range(len(Data)):\n",
    "     for j in range(0, len(Data)-i-1):\n",
    "          if Data[j] > Data[j+1]:\n",
    "             Data[j], Data[j+1] = Data[j+1], Data[j]\n",
    "print(tuple(Data))\n",
    " \n",
    "\n",
    "  \n"
   ]
  },
  {
   "cell_type": "code",
   "execution_count": 207,
   "metadata": {},
   "outputs": [
    {
     "name": "stdout",
     "output_type": "stream",
     "text": [
      "(6.9, 17.5, 43.9)\n"
     ]
    }
   ],
   "source": [
    "#18. Write a Python program to sort a tuple by its float element\n",
    "Data=(43.9,17.5,6.9)\n",
    "data_list=sorted(Data)\n",
    "print(tuple(data_list))"
   ]
  },
  {
   "cell_type": "code",
   "execution_count": null,
   "metadata": {},
   "outputs": [],
   "source": []
  }
 ],
 "metadata": {
  "kernelspec": {
   "display_name": "Python 3",
   "language": "python",
   "name": "python3"
  },
  "language_info": {
   "codemirror_mode": {
    "name": "ipython",
    "version": 3
   },
   "file_extension": ".py",
   "mimetype": "text/x-python",
   "name": "python",
   "nbconvert_exporter": "python",
   "pygments_lexer": "ipython3",
   "version": "3.11.4"
  },
  "orig_nbformat": 4
 },
 "nbformat": 4,
 "nbformat_minor": 2
}
